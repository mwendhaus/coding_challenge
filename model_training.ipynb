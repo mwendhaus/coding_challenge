{
 "cells": [
  {
   "cell_type": "code",
   "execution_count": 2,
   "metadata": {},
   "outputs": [],
   "source": [
    "# Standard libraries\n",
    "import numpy as np\n",
    "import pandas as pd\n",
    "\n",
    "# Deep learning libraries\n",
    "import torch\n",
    "from torch.utils.data import DataLoader, random_split\n",
    "import torch.nn as nn\n",
    "import torch.optim as optim\n",
    "\n",
    "# Project specific libraries\n",
    "from data.dataset import CarDataset\n",
    "from pipeline.preprocessing import PreprocessingPipeline, PreprocessingPipelineBinary, PreprocessingPipelineCutOff\n",
    "\n",
    "# Visualization libraries\n",
    "import matplotlib.pyplot as plt\n",
    "\n",
    "# Evaluation libraries\n",
    "from sklearn.metrics import confusion_matrix, f1_score, precision_score, recall_score, roc_auc_score"
   ]
  },
  {
   "cell_type": "code",
   "execution_count": 3,
   "metadata": {},
   "outputs": [
    {
     "name": "stdout",
     "output_type": "stream",
     "text": [
      "(4000, 506, 674, 3)\n",
      "(4000, 2)\n"
     ]
    }
   ],
   "source": [
    "# Load data\n",
    "\n",
    "X = np.load(\"data/numpy/images.npy\")\n",
    "Y = np.load(\"data/numpy/labels.npy\")\n",
    "\n",
    "print(X.shape)\n",
    "print(Y.shape)"
   ]
  },
  {
   "cell_type": "markdown",
   "metadata": {},
   "source": [
    "# Regression on full dataset, both scores"
   ]
  },
  {
   "cell_type": "code",
   "execution_count": 4,
   "metadata": {},
   "outputs": [],
   "source": [
    "# Create the preprocessing pipeline\n",
    "pipeline = PreprocessingPipeline(output_size=(224, 224), normalize=True, discretize=False)\n",
    "\n",
    "# Create the dataset\n",
    "dataset = CarDataset(X, Y, transform=pipeline, discretize=False)\n",
    "\n",
    "# Create the data split, training and validation\n",
    "generator = torch.Generator().manual_seed(42)   \n",
    "X_train, X_test = random_split(dataset, [0.8, 0.2], generator=generator)\n",
    "\n",
    "# Create the dataloader\n",
    "train_dataloader = DataLoader(X_train, batch_size=8, shuffle=True)\n",
    "test_dataloader = DataLoader(X_test, batch_size=8, shuffle=True)"
   ]
  },
  {
   "cell_type": "code",
   "execution_count": 5,
   "metadata": {},
   "outputs": [],
   "source": [
    "# Specify model, loss function and optimizer\n",
    "\n",
    "from models.regression_model import SimpleCNN\n",
    "\n",
    "regression_model = SimpleCNN()\n",
    "\n",
    "criterion = nn.MSELoss()\n",
    "\n",
    "optimizer = optim.Adam(regression_model.parameters(), lr=0.001)"
   ]
  },
  {
   "cell_type": "code",
   "execution_count": 6,
   "metadata": {},
   "outputs": [
    {
     "name": "stdout",
     "output_type": "stream",
     "text": [
      "Training Loss: 2926.6835\n",
      "Training Loss: 0.1742\n",
      "Validation Loss: 0.1169\n"
     ]
    }
   ],
   "source": [
    "# Train and evaluate model\n",
    "\n",
    "regression_model.train_model(epochs=2, train_loader=train_dataloader, criterion=criterion, optimizer=optimizer, device=\"cpu\")\n",
    "\n",
    "regression_model.evaluate_model(val_loader=test_dataloader, criterion=criterion, device=\"cpu\")"
   ]
  },
  {
   "cell_type": "markdown",
   "metadata": {},
   "source": [
    "# Binary classification with one model for each score - full dataset"
   ]
  },
  {
   "cell_type": "code",
   "execution_count": 7,
   "metadata": {},
   "outputs": [],
   "source": [
    "# Create the preprocessing pipeline\n",
    "pipeline = PreprocessingPipelineCutOff(output_size=(224, 224), normalize=True)\n",
    "\n",
    "# Create the dataset\n",
    "dataset = CarDataset(X, Y[:, 0], transform=pipeline, discretize=False)\n",
    "\n",
    "# Create the data split\n",
    "generator = torch.Generator().manual_seed(42)\n",
    "X_train, X_test = random_split(dataset, [0.8, 0.2], generator=generator)\n",
    "\n",
    "# Create the dataloader\n",
    "train_dataloader = DataLoader(X_train, batch_size=8, shuffle=True)\n",
    "test_dataloader = DataLoader(X_test, batch_size=8, shuffle=True)"
   ]
  },
  {
   "cell_type": "code",
   "execution_count": 8,
   "metadata": {},
   "outputs": [],
   "source": [
    "# Specify model, loss function and optimizer\n",
    "\n",
    "from models.binary_model import SimpleCNNBinary\n",
    "\n",
    "binary_model = SimpleCNNBinary(num_classes=1)\n",
    "\n",
    "criterion = nn.BCEWithLogitsLoss()\n",
    "\n",
    "optimizer = optim.Adam(binary_model.parameters(), lr=0.001)"
   ]
  },
  {
   "cell_type": "code",
   "execution_count": 9,
   "metadata": {},
   "outputs": [
    {
     "name": "stdout",
     "output_type": "stream",
     "text": [
      "Training Loss: 7.3743 | Accuracy: 0.7312\n",
      "Validation Loss: 0.6221 | Accuracy: 0.8263\n"
     ]
    }
   ],
   "source": [
    "# Train and evaluate model\n",
    "\n",
    "binary_model.train_model(train_loader=train_dataloader, criterion=criterion, optimizer=optimizer, device=\"cpu\")\n",
    "\n",
    "y_true, y_pred = binary_model.evaluate_model(val_loader=test_dataloader, criterion=criterion, device=\"cpu\")"
   ]
  },
  {
   "cell_type": "code",
   "execution_count": 10,
   "metadata": {},
   "outputs": [
    {
     "name": "stdout",
     "output_type": "stream",
     "text": [
      "F1 Score: 0.6819221967963386\n",
      "Precision: 0.7801047120418848\n",
      "Recall: 0.6056910569105691\n",
      "AUC: 0.7649393912711691\n"
     ]
    },
    {
     "data": {
      "image/png": "[encoded data removed]",
      "text/plain": [
       "<Figure size 800x600 with 2 Axes>"
      ]
     },
     "metadata": {},
     "output_type": "display_data"
    }
   ],
   "source": [
    "# Print some classification metrics\n",
    "\n",
    "f1 = f1_score(y_true, y_pred)\n",
    "precision = precision_score(y_true, y_pred)\n",
    "recall = recall_score(y_true, y_pred)\n",
    "auc = roc_auc_score(y_true, y_pred)\n",
    "\n",
    "print(\"F1 Score:\", f1)\n",
    "print(\"Precision:\", precision)\n",
    "print(\"Recall:\", recall)\n",
    "print(\"AUC:\", auc)\n",
    "\n",
    "classes = [\"No Hood\", \"Hood\"]\n",
    "\n",
    "# Plot confusion matrix\n",
    "cf_matrix = confusion_matrix(y_true, y_pred)\n",
    "cf_matrix_norm = cf_matrix.astype('float') / cf_matrix.sum(axis=1)[:, np.newaxis]\n",
    "plt.figure(figsize=(8, 6))  # Adjust figure size as needed \n",
    "plt.imshow(cf_matrix_norm, cmap=plt.cm.Blues)\n",
    "plt.title('Confusion Matrix')\n",
    "plt.colorbar()\n",
    "plt.xticks(np.arange(len(classes)), classes, rotation=45)\n",
    "plt.yticks(np.arange(len(classes)), classes)\n",
    "for i in range(len(classes)):\n",
    "  for j in range(len(classes)):\n",
    "    plt.text(j, i, cf_matrix[i, j], ha=\"center\", va=\"center\", color=\"white\" if cf_matrix[i, j] > cf_matrix.mean() else \"black\")\n",
    "\n",
    "plt.xlabel('Predicted Label')\n",
    "plt.ylabel('True Label')\n",
    "plt.tight_layout()\n",
    "plt.show()"
   ]
  },
  {
   "cell_type": "markdown",
   "metadata": {},
   "source": [
    "# Binary classification with one model for each score - undersampled data"
   ]
  },
  {
   "cell_type": "code",
   "execution_count": 20,
   "metadata": {},
   "outputs": [
    {
     "name": "stdout",
     "output_type": "stream",
     "text": [
      "(2482, 506, 674, 3)\n",
      "(2482,)\n"
     ]
    }
   ],
   "source": [
    "# Load undersampled data\n",
    "\n",
    "X = np.load(\"data/numpy_undersampled/X_data.npy\")\n",
    "Y = np.load(\"data/numpy_undersampled/Y_labels.npy\")\n",
    "\n",
    "print(X.shape)\n",
    "print(Y.shape)"
   ]
  },
  {
   "cell_type": "code",
   "execution_count": 21,
   "metadata": {},
   "outputs": [],
   "source": [
    "# Create the preprocessing pipeline\n",
    "pipeline = PreprocessingPipelineBinary(output_size=(224, 224), normalize=True)\n",
    "\n",
    "# Create the dataset\n",
    "dataset = CarDataset(X, Y, transform=pipeline, discretize=False)\n",
    "\n",
    "# Create the data split\n",
    "generator = torch.Generator().manual_seed(42)\n",
    "X_train, X_test = random_split(dataset, [0.8, 0.2], generator=generator)\n",
    "\n",
    "# Create the dataloader\n",
    "train_dataloader = DataLoader(X_train, batch_size=8, shuffle=True)\n",
    "test_dataloader = DataLoader(X_test, batch_size=8, shuffle=True)"
   ]
  },
  {
   "cell_type": "code",
   "execution_count": 22,
   "metadata": {},
   "outputs": [],
   "source": [
    "# Specify model, loss function and optimizer\n",
    "\n",
    "from models.binary_model import SimpleCNNBinary\n",
    "\n",
    "binary_model = SimpleCNNBinary(num_classes=1)\n",
    "\n",
    "criterion = nn.BCEWithLogitsLoss()\n",
    "\n",
    "optimizer = optim.Adam(binary_model.parameters(), lr=0.001)"
   ]
  },
  {
   "cell_type": "code",
   "execution_count": 23,
   "metadata": {},
   "outputs": [
    {
     "name": "stdout",
     "output_type": "stream",
     "text": [
      "Training Loss: 8.6244 | Accuracy: 0.6143\n",
      "Validation Loss: 0.6687 | Accuracy: 0.6230\n"
     ]
    }
   ],
   "source": [
    "# Train and evaluate model\n",
    "\n",
    "binary_model.train_model(train_loader=train_dataloader, criterion=criterion, optimizer=optimizer, device=\"cpu\")\n",
    "\n",
    "y_true, y_pred = binary_model.evaluate_model(val_loader=test_dataloader, criterion=criterion, device=\"cpu\")"
   ]
  },
  {
   "cell_type": "code",
   "execution_count": 24,
   "metadata": {},
   "outputs": [
    {
     "name": "stdout",
     "output_type": "stream",
     "text": [
      "F1 Score: 0.626746506986028\n",
      "Precision: 0.628\n",
      "Recall: 0.6254980079681275\n",
      "AUC: 0.6229530856167168\n"
     ]
    },
    {
     "data": {
      "image/png": "[encoded data removed]",
      "text/plain": [
       "<Figure size 800x600 with 2 Axes>"
      ]
     },
     "metadata": {},
     "output_type": "display_data"
    }
   ],
   "source": [
    "# Print some classification metrics\n",
    "\n",
    "f1 = f1_score(y_true, y_pred)\n",
    "precision = precision_score(y_true, y_pred)\n",
    "recall = recall_score(y_true, y_pred)\n",
    "auc = roc_auc_score(y_true, y_pred)\n",
    "\n",
    "print(\"F1 Score:\", f1)\n",
    "print(\"Precision:\", precision)\n",
    "print(\"Recall:\", recall)\n",
    "print(\"AUC:\", auc)\n",
    "\n",
    "# Plot confusion matrix\n",
    "cf_matrix = confusion_matrix(y_true, y_pred)\n",
    "cf_matrix_norm = cf_matrix.astype('float') / cf_matrix.sum(axis=1)[:, np.newaxis]\n",
    "plt.figure(figsize=(8, 6))  # Adjust figure size as needed \n",
    "plt.imshow(cf_matrix_norm, cmap=plt.cm.Blues)\n",
    "plt.title('Confusion Matrix')\n",
    "plt.colorbar()\n",
    "plt.xticks(np.arange(len(classes)), classes, rotation=45)\n",
    "plt.yticks(np.arange(len(classes)), classes)\n",
    "for i in range(len(classes)):\n",
    "  for j in range(len(classes)):\n",
    "    plt.text(j, i, cf_matrix[i, j], ha=\"center\", va=\"center\", color=\"white\" if cf_matrix[i, j] > cf_matrix.mean() else \"black\")\n",
    "\n",
    "plt.xlabel('Predicted Label')\n",
    "plt.ylabel('True Label')\n",
    "plt.tight_layout()\n",
    "plt.show()"
   ]
  },
  {
   "cell_type": "markdown",
   "metadata": {},
   "source": [
    "# Binary Classification with pretrained Vision Transformer - undersampled data"
   ]
  },
  {
   "cell_type": "code",
   "execution_count": 16,
   "metadata": {},
   "outputs": [
    {
     "name": "stderr",
     "output_type": "stream",
     "text": [
      "Some weights of ViTForImageClassification were not initialized from the model checkpoint at google/vit-base-patch16-224-in21k and are newly initialized: ['classifier.bias', 'classifier.weight']\n",
      "You should probably TRAIN this model on a down-stream task to be able to use it for predictions and inference.\n"
     ]
    }
   ],
   "source": [
    "# Specify model, loss function and optimizer\n",
    "\n",
    "from transformers import ViTForImageClassification, ViTFeatureExtractor\n",
    "\n",
    "model_name = \"google/vit-base-patch16-224-in21k\"  # Example model name\n",
    "model = ViTForImageClassification.from_pretrained(model_name, num_labels=1)\n",
    "#feature_extractor = ViTFeatureExtractor.from_pretrained(model_name)\n",
    "\n",
    "# Define optimizer and scheduler\n",
    "optimizer = optim.Adam(model.parameters(), lr=0.001)\n",
    "\n",
    "# Define loss function\n",
    "criterion = torch.nn.BCEWithLogitsLoss()"
   ]
  },
  {
   "cell_type": "code",
   "execution_count": 17,
   "metadata": {},
   "outputs": [
    {
     "name": "stdout",
     "output_type": "stream",
     "text": [
      "Epoch [1/1] - Training Loss: 0.6998 | Accuracy: 0.5045\n",
      "Validation Loss: 0.7086 | Accuracy: 0.4940\n"
     ]
    }
   ],
   "source": [
    "# Train model\n",
    "\n",
    "from src.helpers import train_model, evaluate_model\n",
    "\n",
    "train_model(model, train_dataloader,criterion, optimizer, num_epochs=1)\n",
    "y_true, y_pred = evaluate_model(model, test_dataloader, criterion)\n"
   ]
  },
  {
   "cell_type": "code",
   "execution_count": 19,
   "metadata": {},
   "outputs": [
    {
     "name": "stdout",
     "output_type": "stream",
     "text": [
      "F1 Score: 0.0\n",
      "Precision: 0.0\n",
      "Recall: 0.0\n",
      "AUC: 0.5\n"
     ]
    },
    {
     "name": "stderr",
     "output_type": "stream",
     "text": [
      "/Users/moritzwendhausen/miniconda3/envs/AI_Env/lib/python3.10/site-packages/sklearn/metrics/_classification.py:1334: UndefinedMetricWarning: Precision is ill-defined and being set to 0.0 due to no predicted samples. Use `zero_division` parameter to control this behavior.\n",
      "  _warn_prf(average, modifier, msg_start, len(result))\n"
     ]
    },
    {
     "data": {
      "image/png": "[encoded data removed]",
      "text/plain": [
       "<Figure size 800x600 with 2 Axes>"
      ]
     },
     "metadata": {},
     "output_type": "display_data"
    }
   ],
   "source": [
    "# Print some classification metrics\n",
    "\n",
    "f1 = f1_score(y_true, y_pred)\n",
    "precision = precision_score(y_true, y_pred)\n",
    "recall = recall_score(y_true, y_pred)\n",
    "auc = roc_auc_score(y_true, y_pred)\n",
    "\n",
    "print(\"F1 Score:\", f1)\n",
    "print(\"Precision:\", precision)\n",
    "print(\"Recall:\", recall)\n",
    "print(\"AUC:\", auc)\n",
    "\n",
    "# Plot confusion matrix\n",
    "cf_matrix = confusion_matrix(y_true, y_pred)\n",
    "\n",
    "cf_matrix_norm = cf_matrix.astype('float') / cf_matrix.sum(axis=1)[:, np.newaxis]\n",
    "plt.figure(figsize=(8, 6))  # Adjust figure size as needed \n",
    "plt.imshow(cf_matrix_norm, cmap=plt.cm.Blues)\n",
    "plt.title('Confusion Matrix')\n",
    "plt.colorbar()\n",
    "plt.xticks(np.arange(len(classes)), classes, rotation=45)\n",
    "plt.yticks(np.arange(len(classes)), classes)\n",
    "for i in range(len(classes)):\n",
    "  for j in range(len(classes)):\n",
    "    plt.text(j, i, cf_matrix[i, j], ha=\"center\", va=\"center\", color=\"white\" if cf_matrix[i, j] > cf_matrix.mean() else \"black\")\n",
    "\n",
    "plt.xlabel('Predicted Label')\n",
    "plt.ylabel('True Label')\n",
    "plt.tight_layout()\n",
    "plt.show()"
   ]
  }
 ],
 "metadata": {
  "kernelspec": {
   "display_name": "AI_Env",
   "language": "python",
   "name": "python3"
  },
  "language_info": {
   "codemirror_mode": {
    "name": "ipython",
    "version": 3
   },
   "file_extension": ".py",
   "mimetype": "text/x-python",
   "name": "python",
   "nbconvert_exporter": "python",
   "pygments_lexer": "ipython3",
   "version": "3.10.6"
  }
 },
 "nbformat": 4,
 "nbformat_minor": 2
}
